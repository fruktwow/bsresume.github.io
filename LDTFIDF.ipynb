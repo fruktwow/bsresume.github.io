{
 "cells": [
  {
   "cell_type": "markdown",
   "id": "7703872f",
   "metadata": {},
   "source": [
    "# Data Fetching"
   ]
  },
  {
   "cell_type": "markdown",
   "id": "6201e845",
   "metadata": {},
   "source": [
    "Importing snscrape module to fetch tweets from Twitter"
   ]
  },
  {
   "cell_type": "code",
   "execution_count": 125,
   "id": "1a03af04",
   "metadata": {},
   "outputs": [],
   "source": [
    "import snscrape.modules.twitter as sntwitter\n",
    "import pandas as pd"
   ]
  },
  {
   "cell_type": "code",
   "execution_count": 126,
   "id": "110d314b",
   "metadata": {},
   "outputs": [],
   "source": [
    "# Creating list to append tweet data to\n",
    "tweets_list_japanese = []\n",
    "# Using TwitterSearchScraper to scrape data and append tweets to list\n",
    "for i,tweet in enumerate(sntwitter.TwitterSearchScraper('covid19 lang:ja since:2020-06-01 until:2020-06-10').get_items()):\n",
    "    if i>999:\n",
    "        break\n",
    "    tweets_list_japanese.append([tweet.content, tweet.lang])\n",
    "# Creating a dataframe from the tweets list above\n",
    "    \n",
    "tweets_df_ja = pd.DataFrame(tweets_list_japanese, columns=['Text', 'lang'])"
   ]
  },
  {
   "cell_type": "code",
   "execution_count": 127,
   "id": "1fc05107",
   "metadata": {
    "scrolled": true
   },
   "outputs": [
    {
     "data": {
      "text/html": [
       "<div>\n",
       "<style scoped>\n",
       "    .dataframe tbody tr th:only-of-type {\n",
       "        vertical-align: middle;\n",
       "    }\n",
       "\n",
       "    .dataframe tbody tr th {\n",
       "        vertical-align: top;\n",
       "    }\n",
       "\n",
       "    .dataframe thead th {\n",
       "        text-align: right;\n",
       "    }\n",
       "</style>\n",
       "<table border=\"1\" class=\"dataframe\">\n",
       "  <thead>\n",
       "    <tr style=\"text-align: right;\">\n",
       "      <th></th>\n",
       "      <th>Text</th>\n",
       "      <th>lang</th>\n",
       "    </tr>\n",
       "  </thead>\n",
       "  <tbody>\n",
       "    <tr>\n",
       "      <th>0</th>\n",
       "      <td>#モーニングショー \\nクラスター対策 … 濃厚接触者の追跡に過ぎないので … \\n対策と呼...</td>\n",
       "      <td>ja</td>\n",
       "    </tr>\n",
       "    <tr>\n",
       "      <th>1</th>\n",
       "      <td>AKB48（日本）\\nJKT48（インドネシア）\\nBNK48（タイ）\\nTPE48（台湾）...</td>\n",
       "      <td>ja</td>\n",
       "    </tr>\n",
       "    <tr>\n",
       "      <th>2</th>\n",
       "      <td>＜全世界＞\\n感染者数：7,311,526\\n死者数：413,011\\n退院者数：3,594...</td>\n",
       "      <td>ja</td>\n",
       "    </tr>\n",
       "    <tr>\n",
       "      <th>3</th>\n",
       "      <td>#インド工科大学ハイテラバード校 @IITHyderabadと @IndiaBARC は、#...</td>\n",
       "      <td>ja</td>\n",
       "    </tr>\n",
       "    <tr>\n",
       "      <th>4</th>\n",
       "      <td>「昼間の都市部の人口が郊外に移っていく」「1カ所でまとめ買いができるワンストップ機能が重要」...</td>\n",
       "      <td>ja</td>\n",
       "    </tr>\n",
       "    <tr>\n",
       "      <th>...</th>\n",
       "      <td>...</td>\n",
       "      <td>...</td>\n",
       "    </tr>\n",
       "    <tr>\n",
       "      <th>995</th>\n",
       "      <td>【メディア】\\nなぜ精密な定量検査が必要なのか、簡易検査キットと定量検査の結果にはなぜ差異が...</td>\n",
       "      <td>ja</td>\n",
       "    </tr>\n",
       "    <tr>\n",
       "      <th>996</th>\n",
       "      <td>Jack Ma氏がCOVID19の件でアフリカと協業している。さすが、孫さんに見切りをつけ、...</td>\n",
       "      <td>ja</td>\n",
       "    </tr>\n",
       "    <tr>\n",
       "      <th>997</th>\n",
       "      <td>［新型コロナ ］ 「地域医療の要」患者激減 JA病院 窮地 収入4割減「救済策を」 相模原協...</td>\n",
       "      <td>ja</td>\n",
       "    </tr>\n",
       "    <tr>\n",
       "      <th>998</th>\n",
       "      <td>石田純一、新型コロナ 快気祝いで「よろよろ千鳥足」 #新型肺炎 #コロナ #新型コロナ #新...</td>\n",
       "      <td>ja</td>\n",
       "    </tr>\n",
       "    <tr>\n",
       "      <th>999</th>\n",
       "      <td>ファミレス「ジョイフル」約200店舗閉店へ コロナ 影響 #新型肺炎 #コロナ #新型コロナ...</td>\n",
       "      <td>ja</td>\n",
       "    </tr>\n",
       "  </tbody>\n",
       "</table>\n",
       "<p>1000 rows × 2 columns</p>\n",
       "</div>"
      ],
      "text/plain": [
       "                                                  Text lang\n",
       "0    #モーニングショー \\nクラスター対策 … 濃厚接触者の追跡に過ぎないので … \\n対策と呼...   ja\n",
       "1    AKB48（日本）\\nJKT48（インドネシア）\\nBNK48（タイ）\\nTPE48（台湾）...   ja\n",
       "2    ＜全世界＞\\n感染者数：7,311,526\\n死者数：413,011\\n退院者数：3,594...   ja\n",
       "3    #インド工科大学ハイテラバード校 @IITHyderabadと @IndiaBARC は、#...   ja\n",
       "4    「昼間の都市部の人口が郊外に移っていく」「1カ所でまとめ買いができるワンストップ機能が重要」...   ja\n",
       "..                                                 ...  ...\n",
       "995  【メディア】\\nなぜ精密な定量検査が必要なのか、簡易検査キットと定量検査の結果にはなぜ差異が...   ja\n",
       "996  Jack Ma氏がCOVID19の件でアフリカと協業している。さすが、孫さんに見切りをつけ、...   ja\n",
       "997  ［新型コロナ ］ 「地域医療の要」患者激減 JA病院 窮地 収入4割減「救済策を」 相模原協...   ja\n",
       "998  石田純一、新型コロナ 快気祝いで「よろよろ千鳥足」 #新型肺炎 #コロナ #新型コロナ #新...   ja\n",
       "999  ファミレス「ジョイフル」約200店舗閉店へ コロナ 影響 #新型肺炎 #コロナ #新型コロナ...   ja\n",
       "\n",
       "[1000 rows x 2 columns]"
      ]
     },
     "execution_count": 127,
     "metadata": {},
     "output_type": "execute_result"
    }
   ],
   "source": [
    "tweets_df_ja"
   ]
  },
  {
   "cell_type": "code",
   "execution_count": 128,
   "id": "b5d1c07d",
   "metadata": {},
   "outputs": [],
   "source": [
    "tweets_list_english = []\n",
    "\n",
    "for i,tweet in enumerate(sntwitter.TwitterSearchScraper('covid19 lang:en since:2020-06-01 until:2020-06-10').get_items()):\n",
    "    if i>999:\n",
    "        break\n",
    "    tweets_list_english.append([tweet.content, tweet.lang])\n",
    "    \n",
    "tweets_df_en = pd.DataFrame(tweets_list_english, columns=[ 'Text', 'lang'])"
   ]
  },
  {
   "cell_type": "code",
   "execution_count": 129,
   "id": "912bd42c",
   "metadata": {},
   "outputs": [],
   "source": [
    "#tweets_df_en"
   ]
  },
  {
   "cell_type": "code",
   "execution_count": 130,
   "id": "ab7cd1d1",
   "metadata": {},
   "outputs": [],
   "source": [
    "tweets_list_german = []\n",
    "\n",
    "for i,tweet in enumerate(sntwitter.TwitterSearchScraper('covid19 lang:de since:2020-06-01 until:2020-06-10').get_items()):\n",
    "    if i>999:\n",
    "        break\n",
    "    tweets_list_german.append([tweet.content, tweet.lang])\n",
    "    \n",
    "tweets_df_de = pd.DataFrame(tweets_list_german, columns=[ 'Text', 'lang'])"
   ]
  },
  {
   "cell_type": "code",
   "execution_count": 131,
   "id": "5980a692",
   "metadata": {},
   "outputs": [],
   "source": [
    "#tweets_df_de"
   ]
  },
  {
   "cell_type": "code",
   "execution_count": 132,
   "id": "b1ad42f5",
   "metadata": {},
   "outputs": [],
   "source": [
    "tweets_list_hindi = []\n",
    "\n",
    "for i,tweet in enumerate(sntwitter.TwitterSearchScraper('covid19 lang:hi since:2020-06-01 until:2020-06-10').get_items()):\n",
    "    if i>999:\n",
    "        break\n",
    "    tweets_list_hindi.append([tweet.content, tweet.lang])\n",
    "    \n",
    "tweets_df_hi = pd.DataFrame(tweets_list_hindi, columns=['Text', 'lang'])"
   ]
  },
  {
   "cell_type": "code",
   "execution_count": 133,
   "id": "6b8f6a3d",
   "metadata": {},
   "outputs": [],
   "source": [
    "tweets_list_french = []\n",
    "\n",
    "for i,tweet in enumerate(sntwitter.TwitterSearchScraper('covid19 lang:fr since:2020-06-01 until:2020-06-10').get_items()):\n",
    "    if i>999:\n",
    "        break\n",
    "    tweets_list_french.append([tweet.content, tweet.lang])\n",
    "    \n",
    "tweets_df_fr = pd.DataFrame(tweets_list_french, columns=[ 'Text', 'lang'])"
   ]
  },
  {
   "cell_type": "code",
   "execution_count": 134,
   "id": "fe89c426",
   "metadata": {},
   "outputs": [],
   "source": [
    "tweets_list_spanish = []\n",
    "\n",
    "for i,tweet in enumerate(sntwitter.TwitterSearchScraper('covid19 lang:es since:2020-06-01 until:2020-06-10').get_items()):\n",
    "    if i>999:\n",
    "        break\n",
    "    tweets_list_spanish.append([tweet.content,  tweet.lang])\n",
    "    \n",
    "tweets_df_es = pd.DataFrame(tweets_list_spanish, columns=['Text', 'lang'])"
   ]
  },
  {
   "cell_type": "code",
   "execution_count": 135,
   "id": "f6630a4a",
   "metadata": {},
   "outputs": [],
   "source": [
    "tweets_list_chinese = []\n",
    "\n",
    "for i,tweet in enumerate(sntwitter.TwitterSearchScraper('covid19 lang:zh-cn since:2020-06-01 until:2020-07-10').get_items()):\n",
    "    if i>999:\n",
    "        break\n",
    "    tweets_list_chinese.append([ tweet.content, tweet.lang])\n",
    "    \n",
    "tweets_df_zh = pd.DataFrame(tweets_list_chinese, columns=[ 'Text', 'lang'])"
   ]
  },
  {
   "cell_type": "markdown",
   "id": "a11ab158",
   "metadata": {},
   "source": [
    "Creating a single list to store all the tweets of different languages"
   ]
  },
  {
   "cell_type": "code",
   "execution_count": 136,
   "id": "57ffed08",
   "metadata": {},
   "outputs": [],
   "source": [
    "frames = [tweets_df_ja, tweets_df_en, tweets_df_de, tweets_df_hi, tweets_df_fr, tweets_df_es, tweets_df_zh]\n",
    "\n",
    "data_twitter = pd.concat(frames)"
   ]
  },
  {
   "cell_type": "code",
   "execution_count": 137,
   "id": "07e2c0eb",
   "metadata": {},
   "outputs": [
    {
     "data": {
      "text/html": [
       "<div>\n",
       "<style scoped>\n",
       "    .dataframe tbody tr th:only-of-type {\n",
       "        vertical-align: middle;\n",
       "    }\n",
       "\n",
       "    .dataframe tbody tr th {\n",
       "        vertical-align: top;\n",
       "    }\n",
       "\n",
       "    .dataframe thead th {\n",
       "        text-align: right;\n",
       "    }\n",
       "</style>\n",
       "<table border=\"1\" class=\"dataframe\">\n",
       "  <thead>\n",
       "    <tr style=\"text-align: right;\">\n",
       "      <th></th>\n",
       "      <th>Text</th>\n",
       "      <th>lang</th>\n",
       "    </tr>\n",
       "  </thead>\n",
       "  <tbody>\n",
       "    <tr>\n",
       "      <th>0</th>\n",
       "      <td>#モーニングショー \\nクラスター対策 … 濃厚接触者の追跡に過ぎないので … \\n対策と呼...</td>\n",
       "      <td>ja</td>\n",
       "    </tr>\n",
       "    <tr>\n",
       "      <th>1</th>\n",
       "      <td>AKB48（日本）\\nJKT48（インドネシア）\\nBNK48（タイ）\\nTPE48（台湾）...</td>\n",
       "      <td>ja</td>\n",
       "    </tr>\n",
       "    <tr>\n",
       "      <th>2</th>\n",
       "      <td>＜全世界＞\\n感染者数：7,311,526\\n死者数：413,011\\n退院者数：3,594...</td>\n",
       "      <td>ja</td>\n",
       "    </tr>\n",
       "    <tr>\n",
       "      <th>3</th>\n",
       "      <td>#インド工科大学ハイテラバード校 @IITHyderabadと @IndiaBARC は、#...</td>\n",
       "      <td>ja</td>\n",
       "    </tr>\n",
       "    <tr>\n",
       "      <th>4</th>\n",
       "      <td>「昼間の都市部の人口が郊外に移っていく」「1カ所でまとめ買いができるワンストップ機能が重要」...</td>\n",
       "      <td>ja</td>\n",
       "    </tr>\n",
       "  </tbody>\n",
       "</table>\n",
       "</div>"
      ],
      "text/plain": [
       "                                                Text lang\n",
       "0  #モーニングショー \\nクラスター対策 … 濃厚接触者の追跡に過ぎないので … \\n対策と呼...   ja\n",
       "1  AKB48（日本）\\nJKT48（インドネシア）\\nBNK48（タイ）\\nTPE48（台湾）...   ja\n",
       "2  ＜全世界＞\\n感染者数：7,311,526\\n死者数：413,011\\n退院者数：3,594...   ja\n",
       "3  #インド工科大学ハイテラバード校 @IITHyderabadと @IndiaBARC は、#...   ja\n",
       "4  「昼間の都市部の人口が郊外に移っていく」「1カ所でまとめ買いができるワンストップ機能が重要」...   ja"
      ]
     },
     "execution_count": 137,
     "metadata": {},
     "output_type": "execute_result"
    }
   ],
   "source": [
    "data_twitter.head()"
   ]
  },
  {
   "cell_type": "code",
   "execution_count": 138,
   "id": "4386c227",
   "metadata": {},
   "outputs": [],
   "source": [
    "data_twitter1 = data_twitter.sample(frac = 1)"
   ]
  },
  {
   "cell_type": "code",
   "execution_count": 139,
   "id": "ced297b0",
   "metadata": {
    "scrolled": true
   },
   "outputs": [
    {
     "data": {
      "text/html": [
       "<div>\n",
       "<style scoped>\n",
       "    .dataframe tbody tr th:only-of-type {\n",
       "        vertical-align: middle;\n",
       "    }\n",
       "\n",
       "    .dataframe tbody tr th {\n",
       "        vertical-align: top;\n",
       "    }\n",
       "\n",
       "    .dataframe thead th {\n",
       "        text-align: right;\n",
       "    }\n",
       "</style>\n",
       "<table border=\"1\" class=\"dataframe\">\n",
       "  <thead>\n",
       "    <tr style=\"text-align: right;\">\n",
       "      <th></th>\n",
       "      <th>Text</th>\n",
       "      <th>lang</th>\n",
       "    </tr>\n",
       "  </thead>\n",
       "  <tbody>\n",
       "    <tr>\n",
       "      <th>699</th>\n",
       "      <td>#thethirdpath author @DrDavidTranter will be h...</td>\n",
       "      <td>en</td>\n",
       "    </tr>\n",
       "    <tr>\n",
       "      <th>656</th>\n",
       "      <td>🇵🇭 LATEST: #Philippines reports 1,531 new case...</td>\n",
       "      <td>zh</td>\n",
       "    </tr>\n",
       "    <tr>\n",
       "      <th>141</th>\n",
       "      <td>@MediaGuido @rrwholloway Momentum Labour and t...</td>\n",
       "      <td>en</td>\n",
       "    </tr>\n",
       "    <tr>\n",
       "      <th>197</th>\n",
       "      <td>दिनाक 5 जून के अमर उजाला में यह खबर छपी थी। इस...</td>\n",
       "      <td>hi</td>\n",
       "    </tr>\n",
       "    <tr>\n",
       "      <th>685</th>\n",
       "      <td>管材制造商Tubi Limited（ASX：2BE）在Covid-19大流行期间完成管材大批...</td>\n",
       "      <td>zh</td>\n",
       "    </tr>\n",
       "    <tr>\n",
       "      <th>...</th>\n",
       "      <td>...</td>\n",
       "      <td>...</td>\n",
       "    </tr>\n",
       "    <tr>\n",
       "      <th>701</th>\n",
       "      <td>@RajGovOfficial #नर्स_ग्रेड_2_भर्ती_2018_मे_पद...</td>\n",
       "      <td>hi</td>\n",
       "    </tr>\n",
       "    <tr>\n",
       "      <th>616</th>\n",
       "      <td>コロナ感染者/死者数（6/09 2）\\n\\n長崎県 17人/1人\\n宮崎県 17人/0人\\n...</td>\n",
       "      <td>ja</td>\n",
       "    </tr>\n",
       "    <tr>\n",
       "      <th>582</th>\n",
       "      <td>#新型肺炎 #新型コロナウイルス #COVID19 #疫病 #感染症 #ソーシャルディスタン...</td>\n",
       "      <td>ja</td>\n",
       "    </tr>\n",
       "    <tr>\n",
       "      <th>193</th>\n",
       "      <td>@AxiomCatwalk I'm not going anywhere soon. #CO...</td>\n",
       "      <td>en</td>\n",
       "    </tr>\n",
       "    <tr>\n",
       "      <th>301</th>\n",
       "      <td>#HK 香港本地疫情在沉寂几十天后突然出现大量本地感染病例，医院/小学/养老中心/食肆都有涉...</td>\n",
       "      <td>zh</td>\n",
       "    </tr>\n",
       "  </tbody>\n",
       "</table>\n",
       "<p>7000 rows × 2 columns</p>\n",
       "</div>"
      ],
      "text/plain": [
       "                                                  Text lang\n",
       "699  #thethirdpath author @DrDavidTranter will be h...   en\n",
       "656  🇵🇭 LATEST: #Philippines reports 1,531 new case...   zh\n",
       "141  @MediaGuido @rrwholloway Momentum Labour and t...   en\n",
       "197  दिनाक 5 जून के अमर उजाला में यह खबर छपी थी। इस...   hi\n",
       "685  管材制造商Tubi Limited（ASX：2BE）在Covid-19大流行期间完成管材大批...   zh\n",
       "..                                                 ...  ...\n",
       "701  @RajGovOfficial #नर्स_ग्रेड_2_भर्ती_2018_मे_पद...   hi\n",
       "616  コロナ感染者/死者数（6/09 2）\\n\\n長崎県 17人/1人\\n宮崎県 17人/0人\\n...   ja\n",
       "582  #新型肺炎 #新型コロナウイルス #COVID19 #疫病 #感染症 #ソーシャルディスタン...   ja\n",
       "193  @AxiomCatwalk I'm not going anywhere soon. #CO...   en\n",
       "301  #HK 香港本地疫情在沉寂几十天后突然出现大量本地感染病例，医院/小学/养老中心/食肆都有涉...   zh\n",
       "\n",
       "[7000 rows x 2 columns]"
      ]
     },
     "execution_count": 139,
     "metadata": {},
     "output_type": "execute_result"
    }
   ],
   "source": [
    "data_twitter1"
   ]
  },
  {
   "cell_type": "markdown",
   "id": "a8a31370",
   "metadata": {},
   "source": [
    "# Data Pre-Processing"
   ]
  },
  {
   "cell_type": "code",
   "execution_count": 140,
   "id": "81c93229",
   "metadata": {},
   "outputs": [
    {
     "name": "stdout",
     "output_type": "stream",
     "text": [
      "! \" # $ % & ' ( ) * + , - . / : ; < = > ? @ [ \\ ] ^ _ ` { | } ~ "
     ]
    }
   ],
   "source": [
    "import string\n",
    "for char in string.punctuation:\n",
    "    print(char, end=\" \")\n",
    "translate_table = dict((ord(char), \"\") for char in string.punctuation)"
   ]
  },
  {
   "cell_type": "code",
   "execution_count": 141,
   "id": "4464bb19",
   "metadata": {},
   "outputs": [],
   "source": [
    "import re\n",
    "import sys\n",
    "\n",
    "def remove_emoji(string):\n",
    "    emoji_pattern = re.compile(\"[\"\n",
    "                               u\"\\U0001F600-\\U0001F64F\"  # emoticons\n",
    "                               u\"\\U0001F300-\\U0001F5FF\"  # symbols & pictographs\n",
    "                               u\"\\U0001F680-\\U0001F6FF\"  # transport & map symbols\n",
    "                               \"\\U0001F700-\\U0001F77F\"  # alchemical symbols\n",
    "                               \"\\U0001F780-\\U0001F7FF\"  # Geometric Shapes Extended\n",
    "                               \"\\U0001F800-\\U0001F8FF\"  # Supplemental Arrows-C\n",
    "                               \"\\U0001F900-\\U0001F9FF\"  # Supplemental Symbols and Pictographs\n",
    "                               \"\\U0001FA00-\\U0001FA6F\"  # Chess Symbols\n",
    "                               \"\\U0001FA70-\\U0001FAFF\"  # Symbols and Pictographs Extended-A\n",
    "                               \"\\U0001F6A8\"\n",
    "                               u\"\\ufe0f\"  # dingbats\n",
    "                               u\"\\u3030\"\n",
    "                               \"]+\", flags=re.UNICODE)\n",
    "    return emoji_pattern.sub(r'', string)\n",
    "\n",
    "def remove_hyperlinks(stringliteral):\n",
    "    hyperlinks_remove = re.sub(r'http\\S+', '', stringliteral)\n",
    "    return hyperlinks_remove"
   ]
  },
  {
   "cell_type": "code",
   "execution_count": 142,
   "id": "015dc4cc",
   "metadata": {},
   "outputs": [],
   "source": [
    "import re\n",
    "data_eng =[]\n",
    "lang_eng =[]\n",
    "for i,line in tweets_df_en.iterrows():\n",
    "\n",
    "    line = line['Text']\n",
    "    if len(line) != 0:\n",
    "        line = line.lower()\n",
    "        line = re.sub(r'http\\S+', '', line)\n",
    "        line = re.sub(r\"\\d+\",\"\",line)\n",
    "        line = line.translate(translate_table)\n",
    "        line = remove_emoji(line)\n",
    "        data_eng.append(line)\n",
    "        lang_eng.append(\"English\")"
   ]
  },
  {
   "cell_type": "code",
   "execution_count": 143,
   "id": "dd5ea4eb",
   "metadata": {},
   "outputs": [],
   "source": [
    "data_de =[]\n",
    "lang_de =[]\n",
    "for i,line in tweets_df_de.iterrows():\n",
    "    line = line['Text']\n",
    "    if len(line) != 0:\n",
    "        line=line.lower()\n",
    "        line = re.sub(r'http\\S+', '', line)\n",
    "        line = re.sub(r\"\\d+\",\"\",line)\n",
    "        line = line.translate(translate_table)\n",
    "        line = remove_emoji(line)\n",
    "        data_de.append(line)\n",
    "        lang_de.append(\"German\")"
   ]
  },
  {
   "cell_type": "code",
   "execution_count": 144,
   "id": "e11cf1da",
   "metadata": {},
   "outputs": [],
   "source": [
    "data_ja =[]\n",
    "lang_ja= []\n",
    "for i,line in tweets_df_ja.iterrows():\n",
    "    line = line['Text']\n",
    "    if len(line) != 0:\n",
    "        line = line.lower()\n",
    "        line = re.sub(r'http\\S+', '', line)\n",
    "        line = re.sub(r\"\\d+\",\"\",line)\n",
    "        line = re.sub(r\"[a-zA-Z]+\", \"\",line)\n",
    "        line = line.translate(translate_table)\n",
    "        line = remove_emoji(line)\n",
    "        data_ja.append(line)\n",
    "        lang_ja.append(\"Japanese\")"
   ]
  },
  {
   "cell_type": "code",
   "execution_count": 145,
   "id": "771c6b68",
   "metadata": {},
   "outputs": [],
   "source": [
    "data_es =[]\n",
    "lang_es= []\n",
    "for i,line in tweets_df_es.iterrows():\n",
    "    line = line['Text']\n",
    "    if len(line) != 0:\n",
    "        line=line.lower()\n",
    "        line = re.sub(r'http\\S+', '', line)\n",
    "        line = re.sub(r\"\\d+\",\"\",line)\n",
    "        line = line.translate(translate_table)\n",
    "        line = remove_emoji(line)\n",
    "        data_es.append(line)\n",
    "        lang_es.append(\"Spanish\")"
   ]
  },
  {
   "cell_type": "code",
   "execution_count": 146,
   "id": "dadc2a1b",
   "metadata": {},
   "outputs": [],
   "source": [
    "data_fr =[]\n",
    "lang_fr= []\n",
    "for i,line in tweets_df_fr.iterrows():\n",
    "    line = line['Text']\n",
    "    if len(line) != 0:\n",
    "        line=line.lower()\n",
    "        line = re.sub(r'http\\S+', '', line)\n",
    "        line = re.sub(r\"\\d+\",\"\",line)\n",
    "        line = line.translate(translate_table)\n",
    "        line = remove_emoji(line)\n",
    "        data_fr.append(line)\n",
    "        lang_fr.append(\"French\")"
   ]
  },
  {
   "cell_type": "code",
   "execution_count": 147,
   "id": "5e02e43b",
   "metadata": {},
   "outputs": [],
   "source": [
    "data_zh =[]\n",
    "lang_zh= []\n",
    "for i,line in tweets_df_zh.iterrows():\n",
    "    line = line['Text']\n",
    "    if len(line) != 0:\n",
    "        line = line.lower()\n",
    "        line = re.sub(r'http\\S+', '', line)\n",
    "        line = re.sub(r\"\\d+\",\"\",line)\n",
    "        line = re.sub(r\"[a-zA-Z]+\", \"\",line)\n",
    "        line = line.translate(translate_table)\n",
    "        line = remove_emoji(line)\n",
    "        data_zh.append(line)\n",
    "        lang_zh.append(\"chinese\")"
   ]
  },
  {
   "cell_type": "code",
   "execution_count": 148,
   "id": "8ec00617",
   "metadata": {},
   "outputs": [],
   "source": [
    "data_hi =[]\n",
    "lang_hi= []\n",
    "for i,line in tweets_df_hi.iterrows():\n",
    "    line = line['Text']\n",
    "    if len(line) != 0:\n",
    "        line = line.lower()\n",
    "        line = re.sub(r'http\\S+', '', line)\n",
    "        line = re.sub(r\"\\d+\",\"\",line)\n",
    "        line = re.sub(r\"[a-zA-Z]+\", \"\",line)\n",
    "        line = line.translate(translate_table)\n",
    "        line = remove_emoji(line)\n",
    "        data_hi.append(line)\n",
    "        lang_hi.append(\"Hindi\")"
   ]
  },
  {
   "cell_type": "code",
   "execution_count": 149,
   "id": "b8e66fde",
   "metadata": {},
   "outputs": [],
   "source": [
    "df_data = pd.DataFrame({\"Text\":data_eng+data_de+data_ja+data_es+data_fr+data_zh+data_hi, \"Language\":lang_eng+lang_de+lang_ja+lang_es+lang_fr+lang_zh+lang_hi})"
   ]
  },
  {
   "cell_type": "code",
   "execution_count": 150,
   "id": "5c918514",
   "metadata": {},
   "outputs": [
    {
     "data": {
      "text/html": [
       "<div>\n",
       "<style scoped>\n",
       "    .dataframe tbody tr th:only-of-type {\n",
       "        vertical-align: middle;\n",
       "    }\n",
       "\n",
       "    .dataframe tbody tr th {\n",
       "        vertical-align: top;\n",
       "    }\n",
       "\n",
       "    .dataframe thead th {\n",
       "        text-align: right;\n",
       "    }\n",
       "</style>\n",
       "<table border=\"1\" class=\"dataframe\">\n",
       "  <thead>\n",
       "    <tr style=\"text-align: right;\">\n",
       "      <th></th>\n",
       "      <th>Text</th>\n",
       "      <th>Language</th>\n",
       "    </tr>\n",
       "  </thead>\n",
       "  <tbody>\n",
       "    <tr>\n",
       "      <th>0</th>\n",
       "      <td>we visited the george floyd funeral in houston...</td>\n",
       "      <td>English</td>\n",
       "    </tr>\n",
       "    <tr>\n",
       "      <th>1</th>\n",
       "      <td>usa florida  thomas paladino  scalar light res...</td>\n",
       "      <td>English</td>\n",
       "    </tr>\n",
       "    <tr>\n",
       "      <th>2</th>\n",
       "      <td>very humbled to share this press release about...</td>\n",
       "      <td>English</td>\n",
       "    </tr>\n",
       "    <tr>\n",
       "      <th>3</th>\n",
       "      <td>pregnancy yoga exercises for the last trimest...</td>\n",
       "      <td>English</td>\n",
       "    </tr>\n",
       "    <tr>\n",
       "      <th>4</th>\n",
       "      <td>if you are a star wars fan like i am you know ...</td>\n",
       "      <td>English</td>\n",
       "    </tr>\n",
       "    <tr>\n",
       "      <th>...</th>\n",
       "      <td>...</td>\n",
       "      <td>...</td>\n",
       "    </tr>\n",
       "    <tr>\n",
       "      <th>6995</th>\n",
       "      <td>ज्योतिरादित्य सिंधिया  और उनकी मां का कोरोना ट...</td>\n",
       "      <td>Hindi</td>\n",
       "    </tr>\n",
       "    <tr>\n",
       "      <th>6996</th>\n",
       "      <td>में बढ़ता जा रहा है खतरा टेस्ट में हर चौथा शख...</td>\n",
       "      <td>Hindi</td>\n",
       "    </tr>\n",
       "    <tr>\n",
       "      <th>6997</th>\n",
       "      <td>ज्योतिरादित्य सिंधिया और उनकी मां अस्पताल में ...</td>\n",
       "      <td>Hindi</td>\n",
       "    </tr>\n",
       "    <tr>\n",
       "      <th>6998</th>\n",
       "      <td>हरियाणा सरकार ने  प्रबंधों का निरीक्षण एवं समी...</td>\n",
       "      <td>Hindi</td>\n",
       "    </tr>\n",
       "    <tr>\n",
       "      <th>6999</th>\n",
       "      <td>तुम फंड का हिसाब मांगो\\nहम  पर वर्चुअल रैली कर...</td>\n",
       "      <td>Hindi</td>\n",
       "    </tr>\n",
       "  </tbody>\n",
       "</table>\n",
       "<p>7000 rows × 2 columns</p>\n",
       "</div>"
      ],
      "text/plain": [
       "                                                   Text Language\n",
       "0     we visited the george floyd funeral in houston...  English\n",
       "1     usa florida  thomas paladino  scalar light res...  English\n",
       "2     very humbled to share this press release about...  English\n",
       "3      pregnancy yoga exercises for the last trimest...  English\n",
       "4     if you are a star wars fan like i am you know ...  English\n",
       "...                                                 ...      ...\n",
       "6995  ज्योतिरादित्य सिंधिया  और उनकी मां का कोरोना ट...    Hindi\n",
       "6996   में बढ़ता जा रहा है खतरा टेस्ट में हर चौथा शख...    Hindi\n",
       "6997  ज्योतिरादित्य सिंधिया और उनकी मां अस्पताल में ...    Hindi\n",
       "6998  हरियाणा सरकार ने  प्रबंधों का निरीक्षण एवं समी...    Hindi\n",
       "6999  तुम फंड का हिसाब मांगो\\nहम  पर वर्चुअल रैली कर...    Hindi\n",
       "\n",
       "[7000 rows x 2 columns]"
      ]
     },
     "execution_count": 150,
     "metadata": {},
     "output_type": "execute_result"
    }
   ],
   "source": [
    "df_data"
   ]
  },
  {
   "cell_type": "markdown",
   "id": "ab0301fc",
   "metadata": {},
   "source": [
    "# Splitting Data into training and testing"
   ]
  },
  {
   "cell_type": "code",
   "execution_count": 151,
   "id": "ac579472",
   "metadata": {},
   "outputs": [
    {
     "name": "stdout",
     "output_type": "stream",
     "text": [
      "(4900, 2)\n",
      "(2100, 2)\n"
     ]
    }
   ],
   "source": [
    "import pandas as pd\n",
    "from sklearn.model_selection import train_test_split\n",
    "train, test = train_test_split(df_data, test_size=0.3, random_state=42, shuffle=True)\n",
    "train_df = pd.DataFrame(train)\n",
    "test_df  = pd.DataFrame(test)\n",
    "print(train_df.shape)\n",
    "print(test_df.shape)"
   ]
  },
  {
   "cell_type": "code",
   "execution_count": 152,
   "id": "ace3cac9",
   "metadata": {},
   "outputs": [
    {
     "data": {
      "text/html": [
       "<div>\n",
       "<style scoped>\n",
       "    .dataframe tbody tr th:only-of-type {\n",
       "        vertical-align: middle;\n",
       "    }\n",
       "\n",
       "    .dataframe tbody tr th {\n",
       "        vertical-align: top;\n",
       "    }\n",
       "\n",
       "    .dataframe thead th {\n",
       "        text-align: right;\n",
       "    }\n",
       "</style>\n",
       "<table border=\"1\" class=\"dataframe\">\n",
       "  <thead>\n",
       "    <tr style=\"text-align: right;\">\n",
       "      <th></th>\n",
       "      <th>Text</th>\n",
       "      <th>Language</th>\n",
       "    </tr>\n",
       "  </thead>\n",
       "  <tbody>\n",
       "    <tr>\n",
       "      <th>6500</th>\n",
       "      <td>देखिए कोविड बुलेटिन       \\n     \\n        \\n</td>\n",
       "      <td>Hindi</td>\n",
       "    </tr>\n",
       "    <tr>\n",
       "      <th>2944</th>\n",
       "      <td>新しい生活様式とかつらみ</td>\n",
       "      <td>Japanese</td>\n",
       "    </tr>\n",
       "    <tr>\n",
       "      <th>2024</th>\n",
       "      <td>人目感染は留置の代少年   \\n山梨県甲府市\\n新型肺炎・コロナウイルス感染症\\n \\n人</td>\n",
       "      <td>Japanese</td>\n",
       "    </tr>\n",
       "    <tr>\n",
       "      <th>263</th>\n",
       "      <td>what jobs matter during the covid crisis  iops...</td>\n",
       "      <td>English</td>\n",
       "    </tr>\n",
       "    <tr>\n",
       "      <th>4350</th>\n",
       "      <td>heureusement quon reparle en noir et blanc le ...</td>\n",
       "      <td>French</td>\n",
       "    </tr>\n",
       "    <tr>\n",
       "      <th>...</th>\n",
       "      <td>...</td>\n",
       "      <td>...</td>\n",
       "    </tr>\n",
       "    <tr>\n",
       "      <th>5945</th>\n",
       "      <td>当全球卫生危机出现时，美国不会等待召唤；我们装作什么都没发生。\\n我们以诈捐和制裁的方式作...</td>\n",
       "      <td>chinese</td>\n",
       "    </tr>\n",
       "    <tr>\n",
       "      <th>1630</th>\n",
       "      <td>visited unacco school at meitram imphal west\\n...</td>\n",
       "      <td>German</td>\n",
       "    </tr>\n",
       "    <tr>\n",
       "      <th>4043</th>\n",
       "      <td>⚠urgent \\nle centre hospitalier de cayenne a b...</td>\n",
       "      <td>French</td>\n",
       "    </tr>\n",
       "    <tr>\n",
       "      <th>1881</th>\n",
       "      <td>richardmetfan sebastiankurz lufthansa gilt für...</td>\n",
       "      <td>German</td>\n",
       "    </tr>\n",
       "    <tr>\n",
       "      <th>4679</th>\n",
       "      <td>zohrabitan lhypocrisie des français à son paro...</td>\n",
       "      <td>French</td>\n",
       "    </tr>\n",
       "  </tbody>\n",
       "</table>\n",
       "<p>2100 rows × 2 columns</p>\n",
       "</div>"
      ],
      "text/plain": [
       "                                                   Text  Language\n",
       "6500      देखिए कोविड बुलेटिन       \\n     \\n        \\n     Hindi\n",
       "2944                                      新しい生活様式とかつらみ   Japanese\n",
       "2024      人目感染は留置の代少年   \\n山梨県甲府市\\n新型肺炎・コロナウイルス感染症\\n \\n人  Japanese\n",
       "263   what jobs matter during the covid crisis  iops...   English\n",
       "4350  heureusement quon reparle en noir et blanc le ...    French\n",
       "...                                                 ...       ...\n",
       "5945   当全球卫生危机出现时，美国不会等待召唤；我们装作什么都没发生。\\n我们以诈捐和制裁的方式作...   chinese\n",
       "1630  visited unacco school at meitram imphal west\\n...    German\n",
       "4043  ⚠urgent \\nle centre hospitalier de cayenne a b...    French\n",
       "1881  richardmetfan sebastiankurz lufthansa gilt für...    German\n",
       "4679  zohrabitan lhypocrisie des français à son paro...    French\n",
       "\n",
       "[2100 rows x 2 columns]"
      ]
     },
     "execution_count": 152,
     "metadata": {},
     "output_type": "execute_result"
    }
   ],
   "source": [
    "test_df"
   ]
  },
  {
   "cell_type": "markdown",
   "id": "85fbc1e0",
   "metadata": {},
   "source": [
    "# Classification"
   ]
  },
  {
   "cell_type": "code",
   "execution_count": 153,
   "id": "ef5c39ee",
   "metadata": {},
   "outputs": [],
   "source": [
    "from sklearn.neighbors import KNeighborsClassifier\n",
    "from sklearn.feature_extraction.text import TfidfVectorizer\n",
    "from sklearn.linear_model import LogisticRegression\n",
    "from sklearn.ensemble import RandomForestClassifier\n",
    "\n",
    "from sklearn.pipeline import Pipeline\n",
    "\n",
    "x=train_df.iloc[:,0]\n",
    "y=train_df.iloc[:,1]\n",
    "vectorizer = TfidfVectorizer(ngram_range = (1,3), analyzer = 'char')\n",
    "pipe_line_knn  = Pipeline([('Vectorizer', vectorizer),('clf',KNeighborsClassifier())]) "
   ]
  },
  {
   "cell_type": "code",
   "execution_count": 154,
   "id": "9be7989c",
   "metadata": {},
   "outputs": [
    {
     "data": {
      "text/plain": [
       "Pipeline(steps=[('Vectorizer',\n",
       "                 TfidfVectorizer(analyzer='char', ngram_range=(1, 3))),\n",
       "                ('clf', KNeighborsClassifier())])"
      ]
     },
     "execution_count": 154,
     "metadata": {},
     "output_type": "execute_result"
    }
   ],
   "source": [
    "pipe_line_knn.fit(x,y)"
   ]
  },
  {
   "cell_type": "code",
   "execution_count": 155,
   "id": "df75c65b",
   "metadata": {},
   "outputs": [],
   "source": [
    "y_predicted = pipe_line_knn.predict(test_df.iloc[:,0])"
   ]
  },
  {
   "cell_type": "code",
   "execution_count": 156,
   "id": "e5bac3bb",
   "metadata": {
    "scrolled": true
   },
   "outputs": [
    {
     "data": {
      "text/plain": [
       "array(['Hindi', 'Japanese', 'Japanese', ..., 'French', 'German', 'French'],\n",
       "      dtype=object)"
      ]
     },
     "execution_count": 156,
     "metadata": {},
     "output_type": "execute_result"
    }
   ],
   "source": [
    "y_predicted"
   ]
  },
  {
   "cell_type": "code",
   "execution_count": 157,
   "id": "203607f1",
   "metadata": {},
   "outputs": [
    {
     "data": {
      "text/plain": [
       "6500        देखिए कोविड बुलेटिन       \\n     \\n        \\n\n",
       "2944                                        新しい生活様式とかつらみ \n",
       "2024        人目感染は留置の代少年   \\n山梨県甲府市\\n新型肺炎・コロナウイルス感染症\\n \\n人\n",
       "263     what jobs matter during the covid crisis  iops...\n",
       "4350    heureusement quon reparle en noir et blanc le ...\n",
       "                              ...                        \n",
       "5945     当全球卫生危机出现时，美国不会等待召唤；我们装作什么都没发生。\\n我们以诈捐和制裁的方式作...\n",
       "1630    visited unacco school at meitram imphal west\\n...\n",
       "4043    ⚠urgent \\nle centre hospitalier de cayenne a b...\n",
       "1881    richardmetfan sebastiankurz lufthansa gilt für...\n",
       "4679    zohrabitan lhypocrisie des français à son paro...\n",
       "Name: Text, Length: 2100, dtype: object"
      ]
     },
     "execution_count": 157,
     "metadata": {},
     "output_type": "execute_result"
    }
   ],
   "source": [
    "test_df.iloc[:,0]"
   ]
  },
  {
   "cell_type": "code",
   "execution_count": 158,
   "id": "ce679948",
   "metadata": {},
   "outputs": [],
   "source": [
    "from sklearn import metrics\n",
    "\n",
    "matrix = metrics.confusion_matrix(test_df.iloc[:,1],y_predicted)\n",
    "crosstab_result = pd.crosstab(y_predicted,test_df.iloc[:,1])"
   ]
  },
  {
   "cell_type": "code",
   "execution_count": 159,
   "id": "659feede",
   "metadata": {},
   "outputs": [
    {
     "name": "stdout",
     "output_type": "stream",
     "text": [
      "Language  English  French  German  Hindi  Japanese  Spanish  chinese\n",
      "row_0                                                               \n",
      "English       304       4       9      0         0        0        0\n",
      "French          2     286       1      0         0        0        0\n",
      "German          1       0     308      1         0        0        0\n",
      "Hindi           0       0       0    287         4        0        7\n",
      "Japanese        0       0       0      0       288        0        4\n",
      "Spanish         2       2       1      0         0      303        0\n",
      "chinese         0       0       0      0         2        0      284\n"
     ]
    }
   ],
   "source": [
    "print(crosstab_result)"
   ]
  },
  {
   "cell_type": "code",
   "execution_count": 160,
   "id": "de4130c9",
   "metadata": {},
   "outputs": [
    {
     "data": {
      "text/plain": [
       "0.9809523809523809"
      ]
     },
     "execution_count": 160,
     "metadata": {},
     "output_type": "execute_result"
    }
   ],
   "source": [
    "import numpy as np\n",
    "\n",
    "TP = np.sum(np.diag(crosstab_result))\n",
    "TP/test_df.shape[0]"
   ]
  },
  {
   "cell_type": "markdown",
   "id": "842da6c9",
   "metadata": {},
   "source": [
    "# Creating pickle file"
   ]
  },
  {
   "cell_type": "code",
   "execution_count": 161,
   "id": "c0429708",
   "metadata": {},
   "outputs": [],
   "source": [
    "import pickle"
   ]
  },
  {
   "cell_type": "code",
   "execution_count": 162,
   "id": "30a57b0d",
   "metadata": {},
   "outputs": [],
   "source": [
    "with open('model_pickle','wb') as f:\n",
    "    pickle.dump(pipe_line_knn,f)"
   ]
  }
 ],
 "metadata": {
  "kernelspec": {
   "display_name": "Python 3",
   "language": "python",
   "name": "python3"
  },
  "language_info": {
   "codemirror_mode": {
    "name": "ipython",
    "version": 3
   },
   "file_extension": ".py",
   "mimetype": "text/x-python",
   "name": "python",
   "nbconvert_exporter": "python",
   "pygments_lexer": "ipython3",
   "version": "3.9.4"
  }
 },
 "nbformat": 4,
 "nbformat_minor": 5
}
